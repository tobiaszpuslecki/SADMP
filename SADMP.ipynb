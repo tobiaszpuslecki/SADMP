{
 "cells": [
  {
   "cell_type": "code",
   "execution_count": 1,
   "id": "confident-illustration",
   "metadata": {
    "tags": []
   },
   "outputs": [
    {
     "data": {
      "text/html": [
       "<div>\n",
       "<style scoped>\n",
       "    .dataframe tbody tr th:only-of-type {\n",
       "        vertical-align: middle;\n",
       "    }\n",
       "\n",
       "    .dataframe tbody tr th {\n",
       "        vertical-align: top;\n",
       "    }\n",
       "\n",
       "    .dataframe thead th {\n",
       "        text-align: right;\n",
       "    }\n",
       "</style>\n",
       "<table border=\"1\" class=\"dataframe\">\n",
       "  <thead>\n",
       "    <tr style=\"text-align: right;\">\n",
       "      <th></th>\n",
       "      <th>Name</th>\n",
       "      <th>Platform</th>\n",
       "      <th>Year</th>\n",
       "      <th>Genre</th>\n",
       "      <th>Publisher</th>\n",
       "      <th>NA_Sales</th>\n",
       "      <th>EU_Sales</th>\n",
       "      <th>JP_Sales</th>\n",
       "      <th>Other_Sales</th>\n",
       "      <th>Global_Sales</th>\n",
       "    </tr>\n",
       "  </thead>\n",
       "  <tbody>\n",
       "    <tr>\n",
       "      <th>0</th>\n",
       "      <td>Wii Sports</td>\n",
       "      <td>Wii</td>\n",
       "      <td>2006.0</td>\n",
       "      <td>Sports</td>\n",
       "      <td>Nintendo</td>\n",
       "      <td>41.49</td>\n",
       "      <td>29.02</td>\n",
       "      <td>3.77</td>\n",
       "      <td>8.46</td>\n",
       "      <td>82.74</td>\n",
       "    </tr>\n",
       "    <tr>\n",
       "      <th>1</th>\n",
       "      <td>Super Mario Bros.</td>\n",
       "      <td>NES</td>\n",
       "      <td>1985.0</td>\n",
       "      <td>Platform</td>\n",
       "      <td>Nintendo</td>\n",
       "      <td>29.08</td>\n",
       "      <td>3.58</td>\n",
       "      <td>6.81</td>\n",
       "      <td>0.77</td>\n",
       "      <td>40.24</td>\n",
       "    </tr>\n",
       "    <tr>\n",
       "      <th>2</th>\n",
       "      <td>Mario Kart Wii</td>\n",
       "      <td>Wii</td>\n",
       "      <td>2008.0</td>\n",
       "      <td>Racing</td>\n",
       "      <td>Nintendo</td>\n",
       "      <td>15.85</td>\n",
       "      <td>12.88</td>\n",
       "      <td>3.79</td>\n",
       "      <td>3.31</td>\n",
       "      <td>35.82</td>\n",
       "    </tr>\n",
       "    <tr>\n",
       "      <th>3</th>\n",
       "      <td>Wii Sports Resort</td>\n",
       "      <td>Wii</td>\n",
       "      <td>2009.0</td>\n",
       "      <td>Sports</td>\n",
       "      <td>Nintendo</td>\n",
       "      <td>15.75</td>\n",
       "      <td>11.01</td>\n",
       "      <td>3.28</td>\n",
       "      <td>2.96</td>\n",
       "      <td>33.00</td>\n",
       "    </tr>\n",
       "    <tr>\n",
       "      <th>4</th>\n",
       "      <td>Pokemon Red/Pokemon Blue</td>\n",
       "      <td>GB</td>\n",
       "      <td>1996.0</td>\n",
       "      <td>Role-Playing</td>\n",
       "      <td>Nintendo</td>\n",
       "      <td>11.27</td>\n",
       "      <td>8.89</td>\n",
       "      <td>10.22</td>\n",
       "      <td>1.00</td>\n",
       "      <td>31.37</td>\n",
       "    </tr>\n",
       "    <tr>\n",
       "      <th>...</th>\n",
       "      <td>...</td>\n",
       "      <td>...</td>\n",
       "      <td>...</td>\n",
       "      <td>...</td>\n",
       "      <td>...</td>\n",
       "      <td>...</td>\n",
       "      <td>...</td>\n",
       "      <td>...</td>\n",
       "      <td>...</td>\n",
       "      <td>...</td>\n",
       "    </tr>\n",
       "    <tr>\n",
       "      <th>16593</th>\n",
       "      <td>Woody Woodpecker in Crazy Castle 5</td>\n",
       "      <td>GBA</td>\n",
       "      <td>2002.0</td>\n",
       "      <td>Platform</td>\n",
       "      <td>Kemco</td>\n",
       "      <td>0.01</td>\n",
       "      <td>0.00</td>\n",
       "      <td>0.00</td>\n",
       "      <td>0.00</td>\n",
       "      <td>0.01</td>\n",
       "    </tr>\n",
       "    <tr>\n",
       "      <th>16594</th>\n",
       "      <td>Men in Black II: Alien Escape</td>\n",
       "      <td>GC</td>\n",
       "      <td>2003.0</td>\n",
       "      <td>Shooter</td>\n",
       "      <td>Infogrames</td>\n",
       "      <td>0.01</td>\n",
       "      <td>0.00</td>\n",
       "      <td>0.00</td>\n",
       "      <td>0.00</td>\n",
       "      <td>0.01</td>\n",
       "    </tr>\n",
       "    <tr>\n",
       "      <th>16595</th>\n",
       "      <td>SCORE International Baja 1000: The Official Game</td>\n",
       "      <td>PS2</td>\n",
       "      <td>2008.0</td>\n",
       "      <td>Racing</td>\n",
       "      <td>Activision</td>\n",
       "      <td>0.00</td>\n",
       "      <td>0.00</td>\n",
       "      <td>0.00</td>\n",
       "      <td>0.00</td>\n",
       "      <td>0.01</td>\n",
       "    </tr>\n",
       "    <tr>\n",
       "      <th>16596</th>\n",
       "      <td>Know How 2</td>\n",
       "      <td>DS</td>\n",
       "      <td>2010.0</td>\n",
       "      <td>Puzzle</td>\n",
       "      <td>7G//AMES</td>\n",
       "      <td>0.00</td>\n",
       "      <td>0.01</td>\n",
       "      <td>0.00</td>\n",
       "      <td>0.00</td>\n",
       "      <td>0.01</td>\n",
       "    </tr>\n",
       "    <tr>\n",
       "      <th>16597</th>\n",
       "      <td>Spirits &amp; Spells</td>\n",
       "      <td>GBA</td>\n",
       "      <td>2003.0</td>\n",
       "      <td>Platform</td>\n",
       "      <td>Wanadoo</td>\n",
       "      <td>0.01</td>\n",
       "      <td>0.00</td>\n",
       "      <td>0.00</td>\n",
       "      <td>0.00</td>\n",
       "      <td>0.01</td>\n",
       "    </tr>\n",
       "  </tbody>\n",
       "</table>\n",
       "<p>16598 rows × 10 columns</p>\n",
       "</div>"
      ],
      "text/plain": [
       "                                                   Name Platform    Year  \\\n",
       "0                                            Wii Sports      Wii  2006.0   \n",
       "1                                     Super Mario Bros.      NES  1985.0   \n",
       "2                                        Mario Kart Wii      Wii  2008.0   \n",
       "3                                     Wii Sports Resort      Wii  2009.0   \n",
       "4                              Pokemon Red/Pokemon Blue       GB  1996.0   \n",
       "...                                                 ...      ...     ...   \n",
       "16593                Woody Woodpecker in Crazy Castle 5      GBA  2002.0   \n",
       "16594                     Men in Black II: Alien Escape       GC  2003.0   \n",
       "16595  SCORE International Baja 1000: The Official Game      PS2  2008.0   \n",
       "16596                                        Know How 2       DS  2010.0   \n",
       "16597                                  Spirits & Spells      GBA  2003.0   \n",
       "\n",
       "              Genre   Publisher  NA_Sales  EU_Sales  JP_Sales  Other_Sales  \\\n",
       "0            Sports    Nintendo     41.49     29.02      3.77         8.46   \n",
       "1          Platform    Nintendo     29.08      3.58      6.81         0.77   \n",
       "2            Racing    Nintendo     15.85     12.88      3.79         3.31   \n",
       "3            Sports    Nintendo     15.75     11.01      3.28         2.96   \n",
       "4      Role-Playing    Nintendo     11.27      8.89     10.22         1.00   \n",
       "...             ...         ...       ...       ...       ...          ...   \n",
       "16593      Platform       Kemco      0.01      0.00      0.00         0.00   \n",
       "16594       Shooter  Infogrames      0.01      0.00      0.00         0.00   \n",
       "16595        Racing  Activision      0.00      0.00      0.00         0.00   \n",
       "16596        Puzzle    7G//AMES      0.00      0.01      0.00         0.00   \n",
       "16597      Platform     Wanadoo      0.01      0.00      0.00         0.00   \n",
       "\n",
       "       Global_Sales  \n",
       "0             82.74  \n",
       "1             40.24  \n",
       "2             35.82  \n",
       "3             33.00  \n",
       "4             31.37  \n",
       "...             ...  \n",
       "16593          0.01  \n",
       "16594          0.01  \n",
       "16595          0.01  \n",
       "16596          0.01  \n",
       "16597          0.01  \n",
       "\n",
       "[16598 rows x 10 columns]"
      ]
     },
     "execution_count": 1,
     "metadata": {},
     "output_type": "execute_result"
    }
   ],
   "source": [
    "# Statystyczna analiza danych medycznych - Projekt\n",
    "# Tobiasz Puślecki 241354\n",
    "\n",
    "# Etap 1\n",
    "# -Statystyka opisowa\n",
    "# -Testy parametryczne\n",
    "# -Testy nieparametryczne\n",
    "\n",
    "import pandas as pd\n",
    "import numpy as np\n",
    "# Dane na temat sprzedaży gier video w latach 1980-2020\n",
    "# https://www.kaggle.com/gregorut/videogamesales\n",
    "dataFile = pd.read_csv('vgsales.csv')\n",
    "dataFile = dataFile.drop(['Rank'],axis=1)\n",
    "dataFile"
   ]
  },
  {
   "cell_type": "code",
   "execution_count": 2,
   "id": "meaning-somewhere",
   "metadata": {
    "tags": []
   },
   "outputs": [
    {
     "data": {
      "text/plain": [
       "Platform\n",
       "DS      2163\n",
       "PS2     2161\n",
       "PS3     1329\n",
       "Wii     1325\n",
       "X360    1265\n",
       "PSP     1213\n",
       "PS      1196\n",
       "PC       960\n",
       "XB       824\n",
       "GBA      822\n",
       "GC       556\n",
       "3DS      509\n",
       "PSV      413\n",
       "PS4      336\n",
       "N64      319\n",
       "SNES     239\n",
       "XOne     213\n",
       "SAT      173\n",
       "WiiU     143\n",
       "2600     133\n",
       "NES       98\n",
       "GB        98\n",
       "DC        52\n",
       "GEN       27\n",
       "NG        12\n",
       "SCD        6\n",
       "WS         6\n",
       "3DO        3\n",
       "TG16       2\n",
       "PCFX       1\n",
       "GG         1\n",
       "Name: Name, dtype: int64"
      ]
     },
     "execution_count": 2,
     "metadata": {},
     "output_type": "execute_result"
    }
   ],
   "source": [
    "# Liczba gier wydanych na poszczególne platformy\n",
    "# Znacząca przewaga konsol japońskich - 7/10 w pierwszej dziesiątce\n",
    "# Najwięcej gier wydano na konsole, które sprzedały się w największej ilości\n",
    "x = dataFile['Name'].groupby(dataFile['Platform']).count().sort_values(ascending=False)\n",
    "x"
   ]
  },
  {
   "cell_type": "code",
   "execution_count": 3,
   "id": "black-studio",
   "metadata": {
    "tags": []
   },
   "outputs": [
    {
     "data": {
      "text/plain": [
       "<AxesSubplot:xlabel='Year'>"
      ]
     },
     "execution_count": 3,
     "metadata": {},
     "output_type": "execute_result"
    },
    {
     "data": {
      "image/png": "[encoded data removed]",
      "text/plain": [
       "<Figure size 432x288 with 1 Axes>"
      ]
     },
     "metadata": {
      "needs_background": "light"
     },
     "output_type": "display_data"
    }
   ],
   "source": [
    "# Globalna ilość sprzedanych gier w zależności od roku\n",
    "# Zbiór danych prawdopodobnie niepełny - według innych danych branża zwiększa swoje udziały rokrocznie\n",
    "# Tutaj widać spadek, najpewniej przez niepełność zbioru\n",
    "import matplotlib.pyplot as plt\n",
    "data = dataFile['Name'].groupby(dataFile['Year']).count()#.sort_values(ascending=False)\n",
    "data.plot.bar(width=0.5)\n"
   ]
  },
  {
   "cell_type": "code",
   "execution_count": 4,
   "id": "third-barrel",
   "metadata": {
    "tags": []
   },
   "outputs": [
    {
     "data": {
      "text/plain": [
       "<AxesSubplot:xlabel='Genre'>"
      ]
     },
     "execution_count": 4,
     "metadata": {},
     "output_type": "execute_result"
    },
    {
     "data": {
      "image/png": "[encoded data removed]",
      "text/plain": [
       "<Figure size 432x288 with 1 Axes>"
      ]
     },
     "metadata": {
      "needs_background": "light"
     },
     "output_type": "display_data"
    }
   ],
   "source": [
    "# Ilość gier w bazie danych zależności od gatunku sumarycznie\n",
    "# Najwięcej gier akcji i sportowych\n",
    "# Najmniej gier strategicznych i logicznych\n",
    "data = dataFile['Name'].groupby(dataFile['Genre']).count().sort_values(ascending=False)\n",
    "data.plot.bar(width=0.5)"
   ]
  },
  {
   "cell_type": "code",
   "execution_count": 5,
   "id": "arabic-canal",
   "metadata": {
    "tags": []
   },
   "outputs": [
    {
     "data": {
      "text/plain": [
       "Publisher\n",
       "Electronic Arts                 1351\n",
       "Activision                       975\n",
       "Namco Bandai Games               932\n",
       "Ubisoft                          921\n",
       "Konami Digital Entertainment     832\n",
       "                                ... \n",
       "Playmates                          1\n",
       "Playmore                           1\n",
       "Plenty                             1\n",
       "Pony Canyon                        1\n",
       "SCS Software                       1\n",
       "Name: Name, Length: 578, dtype: int64"
      ]
     },
     "execution_count": 5,
     "metadata": {},
     "output_type": "execute_result"
    }
   ],
   "source": [
    "# Najpopularniejsi wydawcy ostatnich lat\n",
    "# Znacząca przewaga największych firm - amerykańskich i japońskich\n",
    "dataFile['Name'].groupby(dataFile['Publisher']).count().sort_values(ascending=False)"
   ]
  },
  {
   "cell_type": "code",
   "execution_count": 6,
   "id": "solar-berkeley",
   "metadata": {
    "tags": []
   },
   "outputs": [
    {
     "data": {
      "text/plain": [
       "<AxesSubplot:xlabel='Genre'>"
      ]
     },
     "execution_count": 6,
     "metadata": {},
     "output_type": "execute_result"
    },
    {
     "data": {
      "image/png": "[encoded data removed]",
      "text/plain": [
       "<Figure size 432x288 with 1 Axes>"
      ]
     },
     "metadata": {
      "needs_background": "light"
     },
     "output_type": "display_data"
    }
   ],
   "source": [
    "# Średnia sprzedaż globalna w zależności od gatunku\n",
    "# Średnio najlepiej sprzedawały się gry platformowe i strzelanki\n",
    "data = dataFile['Global_Sales'].groupby(dataFile['Genre']).mean()\n",
    "data.plot.bar(width=0.5)"
   ]
  },
  {
   "cell_type": "code",
   "execution_count": 7,
   "id": "ca614e4f-6371-4427-8591-1e19659d2af7",
   "metadata": {
    "tags": []
   },
   "outputs": [
    {
     "data": {
      "text/plain": [
       "Genre\n",
       "Action          0.190\n",
       "Adventure       0.060\n",
       "Fighting        0.210\n",
       "Misc            0.160\n",
       "Platform        0.280\n",
       "Puzzle          0.110\n",
       "Racing          0.190\n",
       "Role-Playing    0.185\n",
       "Shooter         0.230\n",
       "Simulation      0.160\n",
       "Sports          0.220\n",
       "Strategy        0.090\n",
       "Name: Global_Sales, dtype: float64"
      ]
     },
     "execution_count": 7,
     "metadata": {},
     "output_type": "execute_result"
    }
   ],
   "source": [
    "# Mediana sprzedarzy w zależności od gatunku\n",
    "dataFile['Global_Sales'].groupby(dataFile['Genre']).median()"
   ]
  },
  {
   "cell_type": "code",
   "execution_count": 8,
   "id": "1438bca4-a330-47d4-b1ad-80fd5b4da9b1",
   "metadata": {
    "tags": []
   },
   "outputs": [
    {
     "data": {
      "text/plain": [
       "Name\n",
       "Wii Sports                                                         82.74\n",
       "Mario Kart Wii                                                     35.82\n",
       "Wii Sports Resort                                                  33.00\n",
       "Pokemon Red/Pokemon Blue                                           31.37\n",
       "New Super Mario Bros.                                              30.01\n",
       "                                                                   ...  \n",
       "Moto Racer Advance                                                  0.01\n",
       "Bookworm Deluxe                                                     0.01\n",
       "Rave Master: Special Attack Force!                                  0.01\n",
       "Raven Squad: Operation Hidden Dagger                                0.01\n",
       "Pachitte Chonmage Tatsujin 16: Pachinko Hissatsu Shigotojin III     0.01\n",
       "Name: Global_Sales, Length: 11493, dtype: float64"
      ]
     },
     "execution_count": 8,
     "metadata": {},
     "output_type": "execute_result"
    }
   ],
   "source": [
    "# Najpopularniejsze tytuły wszechczasów\n",
    "# Pięć najlepszych gier to gry japońskie od Nintendo\n",
    "dataFile['Global_Sales'].groupby(dataFile['Name']).min().sort_values(ascending=False)"
   ]
  },
  {
   "cell_type": "code",
   "execution_count": 9,
   "id": "bde56dd1-5aba-4b95-ae28-ac9b26509655",
   "metadata": {
    "tags": []
   },
   "outputs": [
    {
     "data": {
      "text/plain": [
       "Genre\n",
       "Sports          82.74\n",
       "Platform        40.24\n",
       "Racing          35.82\n",
       "Role-Playing    31.37\n",
       "Puzzle          30.26\n",
       "Misc            29.02\n",
       "Shooter         28.31\n",
       "Simulation      24.76\n",
       "Action          21.40\n",
       "Fighting        13.04\n",
       "Adventure       11.18\n",
       "Strategy         5.45\n",
       "Name: Global_Sales, dtype: float64"
      ]
     },
     "execution_count": 9,
     "metadata": {},
     "output_type": "execute_result"
    }
   ],
   "source": [
    "# Sumaraczna sprzedaż wszystkich tytułów w zależności od gatunku\n",
    "# Najwięcej sumarycznie sprzedano kolejno gier sportowych, platformowych, wyścigowych, RPG\n",
    "# Są to najpopularniejsze gatunki trafiające do największego grona graczy\n",
    "# najmniej sprzedano gier strategicznych - są najbardziej skomplikowane i przez to mało popularne\n",
    "dataFile['Global_Sales'].groupby(dataFile['Genre']).max().sort_values(ascending=False)"
   ]
  },
  {
   "cell_type": "code",
   "execution_count": 10,
   "id": "bc6b2511-2bfc-407f-9b5b-5888d4c851ad",
   "metadata": {
    "tags": []
   },
   "outputs": [
    {
     "data": {
      "text/plain": [
       "Genre\n",
       "Action          1.337324\n",
       "Adventure       0.263456\n",
       "Fighting        0.913868\n",
       "Misc            1.728925\n",
       "Platform        6.683540\n",
       "Puzzle          2.438958\n",
       "Racing          2.763697\n",
       "Role-Playing    2.916953\n",
       "Shooter         3.302446\n",
       "Simulation      1.428634\n",
       "Sports          4.366912\n",
       "Strategy        0.271345\n",
       "Name: Global_Sales, dtype: float64"
      ]
     },
     "execution_count": 10,
     "metadata": {},
     "output_type": "execute_result"
    }
   ],
   "source": [
    "# Wariancja globalnej sprzedaży w zależności od gatunku\n",
    "dataFile['Global_Sales'].groupby(dataFile['Genre']).var()"
   ]
  },
  {
   "cell_type": "code",
   "execution_count": 11,
   "id": "16eb805f-f68f-4a48-920c-6dd260ecd19f",
   "metadata": {
    "tags": []
   },
   "outputs": [
    {
     "data": {
      "text/plain": [
       "Genre\n",
       "Action          1.156427\n",
       "Adventure       0.513280\n",
       "Fighting        0.955965\n",
       "Misc            1.314886\n",
       "Platform        2.585254\n",
       "Puzzle          1.561716\n",
       "Racing          1.662437\n",
       "Role-Playing    1.707909\n",
       "Shooter         1.817263\n",
       "Simulation      1.195255\n",
       "Sports          2.089716\n",
       "Strategy        0.520908\n",
       "Name: Global_Sales, dtype: float64"
      ]
     },
     "execution_count": 11,
     "metadata": {},
     "output_type": "execute_result"
    }
   ],
   "source": [
    "# Odchylenie standardowe globalnej sprzedaży w zależności od gatunku\n",
    "dataFile['Global_Sales'].groupby(dataFile['Genre']).std()"
   ]
  },
  {
   "cell_type": "code",
   "execution_count": 12,
   "id": "d05da33d-a2cb-4f29-84dc-8d2403dc4bff",
   "metadata": {
    "tags": []
   },
   "outputs": [
    {
     "data": {
      "text/html": [
       "<div>\n",
       "<style scoped>\n",
       "    .dataframe tbody tr th:only-of-type {\n",
       "        vertical-align: middle;\n",
       "    }\n",
       "\n",
       "    .dataframe tbody tr th {\n",
       "        vertical-align: top;\n",
       "    }\n",
       "\n",
       "    .dataframe thead th {\n",
       "        text-align: right;\n",
       "    }\n",
       "</style>\n",
       "<table border=\"1\" class=\"dataframe\">\n",
       "  <thead>\n",
       "    <tr style=\"text-align: right;\">\n",
       "      <th></th>\n",
       "      <th>count</th>\n",
       "      <th>mean</th>\n",
       "      <th>std</th>\n",
       "      <th>min</th>\n",
       "      <th>25%</th>\n",
       "      <th>50%</th>\n",
       "      <th>75%</th>\n",
       "      <th>max</th>\n",
       "    </tr>\n",
       "    <tr>\n",
       "      <th>Genre</th>\n",
       "      <th></th>\n",
       "      <th></th>\n",
       "      <th></th>\n",
       "      <th></th>\n",
       "      <th></th>\n",
       "      <th></th>\n",
       "      <th></th>\n",
       "      <th></th>\n",
       "    </tr>\n",
       "  </thead>\n",
       "  <tbody>\n",
       "    <tr>\n",
       "      <th>Action</th>\n",
       "      <td>3316.0</td>\n",
       "      <td>0.528100</td>\n",
       "      <td>1.156427</td>\n",
       "      <td>0.01</td>\n",
       "      <td>0.07</td>\n",
       "      <td>0.190</td>\n",
       "      <td>0.5000</td>\n",
       "      <td>21.40</td>\n",
       "    </tr>\n",
       "    <tr>\n",
       "      <th>Adventure</th>\n",
       "      <td>1286.0</td>\n",
       "      <td>0.185879</td>\n",
       "      <td>0.513280</td>\n",
       "      <td>0.01</td>\n",
       "      <td>0.02</td>\n",
       "      <td>0.060</td>\n",
       "      <td>0.1600</td>\n",
       "      <td>11.18</td>\n",
       "    </tr>\n",
       "    <tr>\n",
       "      <th>Fighting</th>\n",
       "      <td>848.0</td>\n",
       "      <td>0.529375</td>\n",
       "      <td>0.955965</td>\n",
       "      <td>0.01</td>\n",
       "      <td>0.08</td>\n",
       "      <td>0.210</td>\n",
       "      <td>0.5500</td>\n",
       "      <td>13.04</td>\n",
       "    </tr>\n",
       "    <tr>\n",
       "      <th>Misc</th>\n",
       "      <td>1739.0</td>\n",
       "      <td>0.465762</td>\n",
       "      <td>1.314886</td>\n",
       "      <td>0.01</td>\n",
       "      <td>0.06</td>\n",
       "      <td>0.160</td>\n",
       "      <td>0.4100</td>\n",
       "      <td>29.02</td>\n",
       "    </tr>\n",
       "    <tr>\n",
       "      <th>Platform</th>\n",
       "      <td>886.0</td>\n",
       "      <td>0.938341</td>\n",
       "      <td>2.585254</td>\n",
       "      <td>0.01</td>\n",
       "      <td>0.09</td>\n",
       "      <td>0.280</td>\n",
       "      <td>0.7900</td>\n",
       "      <td>40.24</td>\n",
       "    </tr>\n",
       "    <tr>\n",
       "      <th>Puzzle</th>\n",
       "      <td>582.0</td>\n",
       "      <td>0.420876</td>\n",
       "      <td>1.561716</td>\n",
       "      <td>0.01</td>\n",
       "      <td>0.04</td>\n",
       "      <td>0.110</td>\n",
       "      <td>0.3075</td>\n",
       "      <td>30.26</td>\n",
       "    </tr>\n",
       "    <tr>\n",
       "      <th>Racing</th>\n",
       "      <td>1249.0</td>\n",
       "      <td>0.586101</td>\n",
       "      <td>1.662437</td>\n",
       "      <td>0.01</td>\n",
       "      <td>0.07</td>\n",
       "      <td>0.190</td>\n",
       "      <td>0.5300</td>\n",
       "      <td>35.82</td>\n",
       "    </tr>\n",
       "    <tr>\n",
       "      <th>Role-Playing</th>\n",
       "      <td>1488.0</td>\n",
       "      <td>0.623233</td>\n",
       "      <td>1.707909</td>\n",
       "      <td>0.01</td>\n",
       "      <td>0.07</td>\n",
       "      <td>0.185</td>\n",
       "      <td>0.5225</td>\n",
       "      <td>31.37</td>\n",
       "    </tr>\n",
       "    <tr>\n",
       "      <th>Shooter</th>\n",
       "      <td>1310.0</td>\n",
       "      <td>0.791885</td>\n",
       "      <td>1.817263</td>\n",
       "      <td>0.01</td>\n",
       "      <td>0.08</td>\n",
       "      <td>0.230</td>\n",
       "      <td>0.7275</td>\n",
       "      <td>28.31</td>\n",
       "    </tr>\n",
       "    <tr>\n",
       "      <th>Simulation</th>\n",
       "      <td>867.0</td>\n",
       "      <td>0.452364</td>\n",
       "      <td>1.195255</td>\n",
       "      <td>0.01</td>\n",
       "      <td>0.05</td>\n",
       "      <td>0.160</td>\n",
       "      <td>0.4200</td>\n",
       "      <td>24.76</td>\n",
       "    </tr>\n",
       "    <tr>\n",
       "      <th>Sports</th>\n",
       "      <td>2346.0</td>\n",
       "      <td>0.567319</td>\n",
       "      <td>2.089716</td>\n",
       "      <td>0.01</td>\n",
       "      <td>0.09</td>\n",
       "      <td>0.220</td>\n",
       "      <td>0.5600</td>\n",
       "      <td>82.74</td>\n",
       "    </tr>\n",
       "    <tr>\n",
       "      <th>Strategy</th>\n",
       "      <td>681.0</td>\n",
       "      <td>0.257151</td>\n",
       "      <td>0.520908</td>\n",
       "      <td>0.01</td>\n",
       "      <td>0.04</td>\n",
       "      <td>0.090</td>\n",
       "      <td>0.2700</td>\n",
       "      <td>5.45</td>\n",
       "    </tr>\n",
       "  </tbody>\n",
       "</table>\n",
       "</div>"
      ],
      "text/plain": [
       "               count      mean       std   min   25%    50%     75%    max\n",
       "Genre                                                                     \n",
       "Action        3316.0  0.528100  1.156427  0.01  0.07  0.190  0.5000  21.40\n",
       "Adventure     1286.0  0.185879  0.513280  0.01  0.02  0.060  0.1600  11.18\n",
       "Fighting       848.0  0.529375  0.955965  0.01  0.08  0.210  0.5500  13.04\n",
       "Misc          1739.0  0.465762  1.314886  0.01  0.06  0.160  0.4100  29.02\n",
       "Platform       886.0  0.938341  2.585254  0.01  0.09  0.280  0.7900  40.24\n",
       "Puzzle         582.0  0.420876  1.561716  0.01  0.04  0.110  0.3075  30.26\n",
       "Racing        1249.0  0.586101  1.662437  0.01  0.07  0.190  0.5300  35.82\n",
       "Role-Playing  1488.0  0.623233  1.707909  0.01  0.07  0.185  0.5225  31.37\n",
       "Shooter       1310.0  0.791885  1.817263  0.01  0.08  0.230  0.7275  28.31\n",
       "Simulation     867.0  0.452364  1.195255  0.01  0.05  0.160  0.4200  24.76\n",
       "Sports        2346.0  0.567319  2.089716  0.01  0.09  0.220  0.5600  82.74\n",
       "Strategy       681.0  0.257151  0.520908  0.01  0.04  0.090  0.2700   5.45"
      ]
     },
     "execution_count": 12,
     "metadata": {},
     "output_type": "execute_result"
    }
   ],
   "source": [
    "# Podział na kwartyle globalnej sprzedaży w zależności od gatunku\n",
    "dataFile['Global_Sales'].groupby(dataFile['Genre']).describe()"
   ]
  },
  {
   "cell_type": "code",
   "execution_count": 13,
   "id": "9f1d5c23-67bd-4eb9-b286-d5a29bdce1f1",
   "metadata": {
    "tags": []
   },
   "outputs": [
    {
     "data": {
      "text/html": [
       "<div>\n",
       "<style scoped>\n",
       "    .dataframe tbody tr th:only-of-type {\n",
       "        vertical-align: middle;\n",
       "    }\n",
       "\n",
       "    .dataframe tbody tr th {\n",
       "        vertical-align: top;\n",
       "    }\n",
       "\n",
       "    .dataframe thead th {\n",
       "        text-align: right;\n",
       "    }\n",
       "</style>\n",
       "<table border=\"1\" class=\"dataframe\">\n",
       "  <thead>\n",
       "    <tr style=\"text-align: right;\">\n",
       "      <th></th>\n",
       "      <th>Person</th>\n",
       "      <th>Gender</th>\n",
       "      <th>Heardofcondition</th>\n",
       "      <th>Set</th>\n",
       "      <th>@1st</th>\n",
       "      <th>@2nd</th>\n",
       "      <th>@3rd</th>\n",
       "      <th>@4th</th>\n",
       "      <th>Combination</th>\n",
       "      <th>VideoAGenUnderstandingCONDITION</th>\n",
       "      <th>VideoBdoctorUnderstandingCONDITION</th>\n",
       "      <th>VideoCOldUnderstandingCONDITION</th>\n",
       "      <th>DEMOUnderstandingCONDITION</th>\n",
       "      <th>TotalAGen</th>\n",
       "      <th>TotalBdoc</th>\n",
       "      <th>TotalCOld</th>\n",
       "      <th>TotalDDEMO</th>\n",
       "    </tr>\n",
       "  </thead>\n",
       "  <tbody>\n",
       "    <tr>\n",
       "      <th>0</th>\n",
       "      <td>1</td>\n",
       "      <td>1</td>\n",
       "      <td>1</td>\n",
       "      <td>1</td>\n",
       "      <td>4</td>\n",
       "      <td>1</td>\n",
       "      <td>3</td>\n",
       "      <td>2</td>\n",
       "      <td>4132</td>\n",
       "      <td>5</td>\n",
       "      <td>5</td>\n",
       "      <td>3</td>\n",
       "      <td>5</td>\n",
       "      <td>25</td>\n",
       "      <td>23</td>\n",
       "      <td>13</td>\n",
       "      <td>22</td>\n",
       "    </tr>\n",
       "    <tr>\n",
       "      <th>1</th>\n",
       "      <td>2</td>\n",
       "      <td>2</td>\n",
       "      <td>1</td>\n",
       "      <td>1</td>\n",
       "      <td>4</td>\n",
       "      <td>1</td>\n",
       "      <td>3</td>\n",
       "      <td>2</td>\n",
       "      <td>4132</td>\n",
       "      <td>5</td>\n",
       "      <td>5</td>\n",
       "      <td>5</td>\n",
       "      <td>5</td>\n",
       "      <td>23</td>\n",
       "      <td>23</td>\n",
       "      <td>20</td>\n",
       "      <td>22</td>\n",
       "    </tr>\n",
       "    <tr>\n",
       "      <th>2</th>\n",
       "      <td>3</td>\n",
       "      <td>2</td>\n",
       "      <td>2</td>\n",
       "      <td>1</td>\n",
       "      <td>4</td>\n",
       "      <td>1</td>\n",
       "      <td>3</td>\n",
       "      <td>2</td>\n",
       "      <td>4132</td>\n",
       "      <td>4</td>\n",
       "      <td>4</td>\n",
       "      <td>2</td>\n",
       "      <td>5</td>\n",
       "      <td>20</td>\n",
       "      <td>17</td>\n",
       "      <td>14</td>\n",
       "      <td>23</td>\n",
       "    </tr>\n",
       "    <tr>\n",
       "      <th>3</th>\n",
       "      <td>4</td>\n",
       "      <td>2</td>\n",
       "      <td>0</td>\n",
       "      <td>1</td>\n",
       "      <td>4</td>\n",
       "      <td>1</td>\n",
       "      <td>3</td>\n",
       "      <td>2</td>\n",
       "      <td>4132</td>\n",
       "      <td>5</td>\n",
       "      <td>5</td>\n",
       "      <td>5</td>\n",
       "      <td>5</td>\n",
       "      <td>24</td>\n",
       "      <td>24</td>\n",
       "      <td>23</td>\n",
       "      <td>25</td>\n",
       "    </tr>\n",
       "    <tr>\n",
       "      <th>4</th>\n",
       "      <td>5</td>\n",
       "      <td>2</td>\n",
       "      <td>2</td>\n",
       "      <td>1</td>\n",
       "      <td>4</td>\n",
       "      <td>1</td>\n",
       "      <td>3</td>\n",
       "      <td>2</td>\n",
       "      <td>4132</td>\n",
       "      <td>5</td>\n",
       "      <td>5</td>\n",
       "      <td>4</td>\n",
       "      <td>5</td>\n",
       "      <td>25</td>\n",
       "      <td>22</td>\n",
       "      <td>18</td>\n",
       "      <td>23</td>\n",
       "    </tr>\n",
       "    <tr>\n",
       "      <th>5</th>\n",
       "      <td>6</td>\n",
       "      <td>2</td>\n",
       "      <td>1</td>\n",
       "      <td>11</td>\n",
       "      <td>1</td>\n",
       "      <td>3</td>\n",
       "      <td>4</td>\n",
       "      <td>2</td>\n",
       "      <td>1342</td>\n",
       "      <td>5</td>\n",
       "      <td>4</td>\n",
       "      <td>5</td>\n",
       "      <td>5</td>\n",
       "      <td>24</td>\n",
       "      <td>22</td>\n",
       "      <td>23</td>\n",
       "      <td>25</td>\n",
       "    </tr>\n",
       "    <tr>\n",
       "      <th>6</th>\n",
       "      <td>7</td>\n",
       "      <td>2</td>\n",
       "      <td>1</td>\n",
       "      <td>11</td>\n",
       "      <td>1</td>\n",
       "      <td>3</td>\n",
       "      <td>4</td>\n",
       "      <td>2</td>\n",
       "      <td>1342</td>\n",
       "      <td>5</td>\n",
       "      <td>4</td>\n",
       "      <td>2</td>\n",
       "      <td>5</td>\n",
       "      <td>25</td>\n",
       "      <td>22</td>\n",
       "      <td>9</td>\n",
       "      <td>21</td>\n",
       "    </tr>\n",
       "    <tr>\n",
       "      <th>7</th>\n",
       "      <td>8</td>\n",
       "      <td>1</td>\n",
       "      <td>1</td>\n",
       "      <td>11</td>\n",
       "      <td>1</td>\n",
       "      <td>3</td>\n",
       "      <td>4</td>\n",
       "      <td>2</td>\n",
       "      <td>1342</td>\n",
       "      <td>4</td>\n",
       "      <td>4</td>\n",
       "      <td>2</td>\n",
       "      <td>5</td>\n",
       "      <td>24</td>\n",
       "      <td>23</td>\n",
       "      <td>6</td>\n",
       "      <td>21</td>\n",
       "    </tr>\n",
       "    <tr>\n",
       "      <th>8</th>\n",
       "      <td>9</td>\n",
       "      <td>2</td>\n",
       "      <td>0</td>\n",
       "      <td>11</td>\n",
       "      <td>1</td>\n",
       "      <td>3</td>\n",
       "      <td>4</td>\n",
       "      <td>2</td>\n",
       "      <td>1342</td>\n",
       "      <td>5</td>\n",
       "      <td>4</td>\n",
       "      <td>3</td>\n",
       "      <td>5</td>\n",
       "      <td>25</td>\n",
       "      <td>21</td>\n",
       "      <td>11</td>\n",
       "      <td>23</td>\n",
       "    </tr>\n",
       "    <tr>\n",
       "      <th>9</th>\n",
       "      <td>10</td>\n",
       "      <td>2</td>\n",
       "      <td>0</td>\n",
       "      <td>11</td>\n",
       "      <td>1</td>\n",
       "      <td>3</td>\n",
       "      <td>4</td>\n",
       "      <td>2</td>\n",
       "      <td>1342</td>\n",
       "      <td>5</td>\n",
       "      <td>5</td>\n",
       "      <td>1</td>\n",
       "      <td>5</td>\n",
       "      <td>24</td>\n",
       "      <td>23</td>\n",
       "      <td>5</td>\n",
       "      <td>25</td>\n",
       "    </tr>\n",
       "    <tr>\n",
       "      <th>10</th>\n",
       "      <td>11</td>\n",
       "      <td>1</td>\n",
       "      <td>0</td>\n",
       "      <td>24</td>\n",
       "      <td>3</td>\n",
       "      <td>1</td>\n",
       "      <td>2</td>\n",
       "      <td>4</td>\n",
       "      <td>3124</td>\n",
       "      <td>5</td>\n",
       "      <td>5</td>\n",
       "      <td>4</td>\n",
       "      <td>5</td>\n",
       "      <td>24</td>\n",
       "      <td>23</td>\n",
       "      <td>15</td>\n",
       "      <td>21</td>\n",
       "    </tr>\n",
       "    <tr>\n",
       "      <th>11</th>\n",
       "      <td>12</td>\n",
       "      <td>2</td>\n",
       "      <td>0</td>\n",
       "      <td>24</td>\n",
       "      <td>3</td>\n",
       "      <td>1</td>\n",
       "      <td>2</td>\n",
       "      <td>4</td>\n",
       "      <td>3124</td>\n",
       "      <td>4</td>\n",
       "      <td>5</td>\n",
       "      <td>3</td>\n",
       "      <td>5</td>\n",
       "      <td>22</td>\n",
       "      <td>24</td>\n",
       "      <td>14</td>\n",
       "      <td>19</td>\n",
       "    </tr>\n",
       "    <tr>\n",
       "      <th>12</th>\n",
       "      <td>13</td>\n",
       "      <td>1</td>\n",
       "      <td>0</td>\n",
       "      <td>24</td>\n",
       "      <td>3</td>\n",
       "      <td>1</td>\n",
       "      <td>2</td>\n",
       "      <td>4</td>\n",
       "      <td>3124</td>\n",
       "      <td>4</td>\n",
       "      <td>3</td>\n",
       "      <td>4</td>\n",
       "      <td>4</td>\n",
       "      <td>24</td>\n",
       "      <td>23</td>\n",
       "      <td>14</td>\n",
       "      <td>19</td>\n",
       "    </tr>\n",
       "    <tr>\n",
       "      <th>13</th>\n",
       "      <td>14</td>\n",
       "      <td>2</td>\n",
       "      <td>0</td>\n",
       "      <td>24</td>\n",
       "      <td>3</td>\n",
       "      <td>1</td>\n",
       "      <td>2</td>\n",
       "      <td>4</td>\n",
       "      <td>3124</td>\n",
       "      <td>5</td>\n",
       "      <td>5</td>\n",
       "      <td>5</td>\n",
       "      <td>5</td>\n",
       "      <td>25</td>\n",
       "      <td>25</td>\n",
       "      <td>17</td>\n",
       "      <td>18</td>\n",
       "    </tr>\n",
       "    <tr>\n",
       "      <th>14</th>\n",
       "      <td>15</td>\n",
       "      <td>2</td>\n",
       "      <td>0</td>\n",
       "      <td>24</td>\n",
       "      <td>3</td>\n",
       "      <td>1</td>\n",
       "      <td>2</td>\n",
       "      <td>4</td>\n",
       "      <td>3124</td>\n",
       "      <td>4</td>\n",
       "      <td>4</td>\n",
       "      <td>4</td>\n",
       "      <td>4</td>\n",
       "      <td>24</td>\n",
       "      <td>22</td>\n",
       "      <td>14</td>\n",
       "      <td>17</td>\n",
       "    </tr>\n",
       "    <tr>\n",
       "      <th>15</th>\n",
       "      <td>16</td>\n",
       "      <td>1</td>\n",
       "      <td>2</td>\n",
       "      <td>10</td>\n",
       "      <td>2</td>\n",
       "      <td>4</td>\n",
       "      <td>3</td>\n",
       "      <td>1</td>\n",
       "      <td>2431</td>\n",
       "      <td>5</td>\n",
       "      <td>5</td>\n",
       "      <td>3</td>\n",
       "      <td>5</td>\n",
       "      <td>25</td>\n",
       "      <td>23</td>\n",
       "      <td>13</td>\n",
       "      <td>20</td>\n",
       "    </tr>\n",
       "    <tr>\n",
       "      <th>16</th>\n",
       "      <td>17</td>\n",
       "      <td>1</td>\n",
       "      <td>2</td>\n",
       "      <td>10</td>\n",
       "      <td>2</td>\n",
       "      <td>4</td>\n",
       "      <td>3</td>\n",
       "      <td>1</td>\n",
       "      <td>2431</td>\n",
       "      <td>5</td>\n",
       "      <td>5</td>\n",
       "      <td>3</td>\n",
       "      <td>5</td>\n",
       "      <td>25</td>\n",
       "      <td>22</td>\n",
       "      <td>16</td>\n",
       "      <td>21</td>\n",
       "    </tr>\n",
       "    <tr>\n",
       "      <th>17</th>\n",
       "      <td>18</td>\n",
       "      <td>2</td>\n",
       "      <td>1</td>\n",
       "      <td>10</td>\n",
       "      <td>2</td>\n",
       "      <td>4</td>\n",
       "      <td>3</td>\n",
       "      <td>1</td>\n",
       "      <td>2431</td>\n",
       "      <td>5</td>\n",
       "      <td>4</td>\n",
       "      <td>2</td>\n",
       "      <td>5</td>\n",
       "      <td>25</td>\n",
       "      <td>21</td>\n",
       "      <td>11</td>\n",
       "      <td>22</td>\n",
       "    </tr>\n",
       "    <tr>\n",
       "      <th>18</th>\n",
       "      <td>19</td>\n",
       "      <td>2</td>\n",
       "      <td>1</td>\n",
       "      <td>10</td>\n",
       "      <td>2</td>\n",
       "      <td>4</td>\n",
       "      <td>3</td>\n",
       "      <td>1</td>\n",
       "      <td>2431</td>\n",
       "      <td>5</td>\n",
       "      <td>5</td>\n",
       "      <td>2</td>\n",
       "      <td>5</td>\n",
       "      <td>25</td>\n",
       "      <td>23</td>\n",
       "      <td>19</td>\n",
       "      <td>25</td>\n",
       "    </tr>\n",
       "    <tr>\n",
       "      <th>19</th>\n",
       "      <td>20</td>\n",
       "      <td>1</td>\n",
       "      <td>1</td>\n",
       "      <td>10</td>\n",
       "      <td>2</td>\n",
       "      <td>4</td>\n",
       "      <td>3</td>\n",
       "      <td>1</td>\n",
       "      <td>2431</td>\n",
       "      <td>5</td>\n",
       "      <td>5</td>\n",
       "      <td>4</td>\n",
       "      <td>5</td>\n",
       "      <td>24</td>\n",
       "      <td>23</td>\n",
       "      <td>18</td>\n",
       "      <td>25</td>\n",
       "    </tr>\n",
       "  </tbody>\n",
       "</table>\n",
       "</div>"
      ],
      "text/plain": [
       "    Person  Gender  Heardofcondition  Set  @1st  @2nd  @3rd  @4th  \\\n",
       "0        1       1                 1    1     4     1     3     2   \n",
       "1        2       2                 1    1     4     1     3     2   \n",
       "2        3       2                 2    1     4     1     3     2   \n",
       "3        4       2                 0    1     4     1     3     2   \n",
       "4        5       2                 2    1     4     1     3     2   \n",
       "5        6       2                 1   11     1     3     4     2   \n",
       "6        7       2                 1   11     1     3     4     2   \n",
       "7        8       1                 1   11     1     3     4     2   \n",
       "8        9       2                 0   11     1     3     4     2   \n",
       "9       10       2                 0   11     1     3     4     2   \n",
       "10      11       1                 0   24     3     1     2     4   \n",
       "11      12       2                 0   24     3     1     2     4   \n",
       "12      13       1                 0   24     3     1     2     4   \n",
       "13      14       2                 0   24     3     1     2     4   \n",
       "14      15       2                 0   24     3     1     2     4   \n",
       "15      16       1                 2   10     2     4     3     1   \n",
       "16      17       1                 2   10     2     4     3     1   \n",
       "17      18       2                 1   10     2     4     3     1   \n",
       "18      19       2                 1   10     2     4     3     1   \n",
       "19      20       1                 1   10     2     4     3     1   \n",
       "\n",
       "    Combination  VideoAGenUnderstandingCONDITION  \\\n",
       "0          4132                                5   \n",
       "1          4132                                5   \n",
       "2          4132                                4   \n",
       "3          4132                                5   \n",
       "4          4132                                5   \n",
       "5          1342                                5   \n",
       "6          1342                                5   \n",
       "7          1342                                4   \n",
       "8          1342                                5   \n",
       "9          1342                                5   \n",
       "10         3124                                5   \n",
       "11         3124                                4   \n",
       "12         3124                                4   \n",
       "13         3124                                5   \n",
       "14         3124                                4   \n",
       "15         2431                                5   \n",
       "16         2431                                5   \n",
       "17         2431                                5   \n",
       "18         2431                                5   \n",
       "19         2431                                5   \n",
       "\n",
       "    VideoBdoctorUnderstandingCONDITION  VideoCOldUnderstandingCONDITION  \\\n",
       "0                                    5                                3   \n",
       "1                                    5                                5   \n",
       "2                                    4                                2   \n",
       "3                                    5                                5   \n",
       "4                                    5                                4   \n",
       "5                                    4                                5   \n",
       "6                                    4                                2   \n",
       "7                                    4                                2   \n",
       "8                                    4                                3   \n",
       "9                                    5                                1   \n",
       "10                                   5                                4   \n",
       "11                                   5                                3   \n",
       "12                                   3                                4   \n",
       "13                                   5                                5   \n",
       "14                                   4                                4   \n",
       "15                                   5                                3   \n",
       "16                                   5                                3   \n",
       "17                                   4                                2   \n",
       "18                                   5                                2   \n",
       "19                                   5                                4   \n",
       "\n",
       "    DEMOUnderstandingCONDITION  TotalAGen  TotalBdoc  TotalCOld  TotalDDEMO  \n",
       "0                            5         25         23         13          22  \n",
       "1                            5         23         23         20          22  \n",
       "2                            5         20         17         14          23  \n",
       "3                            5         24         24         23          25  \n",
       "4                            5         25         22         18          23  \n",
       "5                            5         24         22         23          25  \n",
       "6                            5         25         22          9          21  \n",
       "7                            5         24         23          6          21  \n",
       "8                            5         25         21         11          23  \n",
       "9                            5         24         23          5          25  \n",
       "10                           5         24         23         15          21  \n",
       "11                           5         22         24         14          19  \n",
       "12                           4         24         23         14          19  \n",
       "13                           5         25         25         17          18  \n",
       "14                           4         24         22         14          17  \n",
       "15                           5         25         23         13          20  \n",
       "16                           5         25         22         16          21  \n",
       "17                           5         25         21         11          22  \n",
       "18                           5         25         23         19          25  \n",
       "19                           5         24         23         18          25  "
      ]
     },
     "execution_count": 13,
     "metadata": {},
     "output_type": "execute_result"
    }
   ],
   "source": [
    "#Testy parametryczne\n",
    "#T-test\n",
    "#ANOVA\n",
    "\n",
    "# Zbiór video - zbiór ocen poszczególnych filmów w zależności od płci respondenta\n",
    "# https://www.sheffield.ac.uk/mash/statistics/datasets\n",
    "dataFile2 = pd.read_csv('Video_R.csv')\n",
    "dataFile2"
   ]
  },
  {
   "cell_type": "code",
   "execution_count": 14,
   "id": "bf08186e-0324-4016-8865-590a674b089b",
   "metadata": {
    "tags": []
   },
   "outputs": [
    {
     "name": "stdout",
     "output_type": "stream",
     "text": [
      "cat1 vs cat2 - stat: 2.15, p: 0.0451\n",
      "Róznica statystyczna istnieje\n",
      "Przewaga 1\n"
     ]
    }
   ],
   "source": [
    "#T-test\n",
    "\n",
    "# Test dwustronny dla hipotezy zerowej - sprawdza czy 2 niezależne próbki mają identyczne \n",
    "# wartości średnie (oczekiwane). \n",
    "# Test zakłada, że populacje mają domyślnie identyczne wariancje.\n",
    "# Tutaj wynik pozytywny - Róznica statystyczna istnieje - przewaga TotalAGen\n",
    "from scipy.stats import ttest_ind\n",
    "cat1 = dataFile2[dataFile2['Gender']==1]\n",
    "cat2 = dataFile2[dataFile2['Gender']==2]\n",
    "\n",
    "stat, p = ttest_ind(cat1['TotalAGen'], cat2['TotalDDEMO'])\n",
    "\n",
    "alpha = 0.05\n",
    "\n",
    "print(\"cat1 vs cat2 - stat: %.2f, p: %.4f\" % (stat, p))\n",
    "if p<alpha:\n",
    "    print('Róznica statystyczna istnieje')\n",
    "    if stat>0:\n",
    "        print('Przewaga 1')\n",
    "    else:\n",
    "        print('Przewaga 2')\n",
    "else:\n",
    "    print('Róznica statystyczna nie istnieje')\n",
    "\n"
   ]
  },
  {
   "cell_type": "code",
   "execution_count": 15,
   "id": "cadb5173-30f2-4fbc-a862-c6f9348bafa5",
   "metadata": {
    "tags": []
   },
   "outputs": [
    {
     "name": "stdout",
     "output_type": "stream",
     "text": [
      "Różnice statystyczne nie istnieją\n"
     ]
    }
   ],
   "source": [
    "#ANOVA\n",
    "\n",
    "# One-way ANOVA testuje hipotezę zerową, że dwie lub więcej grup ma taką samą średnią w populacji.\n",
    "# Tutaj dla dwóch płci różnice statystyczne nie istnieją\n",
    "\n",
    "from scipy.stats import f_oneway\n",
    "\n",
    "stat, p = f_oneway(dataFile2['Gender']==1, dataFile2['Gender']==2)\n",
    "\n",
    "if p<alpha:\n",
    "    print(\"Różnice statystyczne istnieją, p=\", p)\n",
    "else:\n",
    "    print(\"Różnice statystyczne nie istnieją\")"
   ]
  },
  {
   "cell_type": "code",
   "execution_count": 16,
   "id": "83dbe34a-315d-47e7-b466-7a27a885d8d0",
   "metadata": {
    "tags": []
   },
   "outputs": [
    {
     "name": "stdout",
     "output_type": "stream",
     "text": [
      "Różnice statystyczne istnieją, p= 3.957209628424607e-05\n"
     ]
    }
   ],
   "source": [
    "#Testy nieparametryczne\n",
    "\n",
    "# Zbiór video - zbiór ocen poszczególnych filmów w zależności od płci respondenta\n",
    "# https://www.sheffield.ac.uk/mash/statistics/datasets\n",
    "\n",
    "#Shapiro-Wilk \n",
    "# Testuje hipotezę zerową, że dane pochodzą z rozkładu normalnego.\n",
    "# Hipoteza zerowa potwierdzona - dane z próbki pochodzą z rozkładu normalnego dla TotalAGen\n",
    "\n",
    "from scipy.stats import shapiro\n",
    "\n",
    "stat, p = shapiro(dataFile2['TotalAGen'])\n",
    "if p<alpha:\n",
    "    print(\"Różnice statystyczne istnieją, p=\", p)\n",
    "else:\n",
    "    print(\"Różnice statystyczne nie istnieją\")"
   ]
  },
  {
   "cell_type": "code",
   "execution_count": 17,
   "id": "ccddba12-0ba8-47a3-bc18-40efb1a4dd31",
   "metadata": {
    "tags": []
   },
   "outputs": [
    {
     "name": "stdout",
     "output_type": "stream",
     "text": [
      "Różnice statystyczne nie istnieją\n"
     ]
    }
   ],
   "source": [
    "# Hipoteza zerowa potwierdzona - dane z próbki nie pochodzą z rozkładu normalnego dla TotalDDEMO\n",
    "\n",
    "stat, p = shapiro(dataFile2['TotalDDEMO'])\n",
    "if p<alpha:\n",
    "    print(\"Różnice statystyczne istnieją, p=\", p)\n",
    "else:\n",
    "    print(\"Różnice statystyczne nie istnieją\")"
   ]
  },
  {
   "cell_type": "code",
   "execution_count": 18,
   "id": "208b7faf-7eba-4080-8896-74ac0e790fc1",
   "metadata": {
    "tags": []
   },
   "outputs": [
    {
     "name": "stdout",
     "output_type": "stream",
     "text": [
      "Różnice statystyczne istnieją, p= 0.003333988593281021\n"
     ]
    },
    {
     "name": "stderr",
     "output_type": "stream",
     "text": [
      "/Users/tobiaszpuslecki/opt/anaconda3/lib/python3.9/site-packages/scipy/stats/morestats.py:3141: UserWarning: Exact p-value calculation does not work if there are ties. Switching to normal approximation.\n",
      "  warnings.warn(\"Exact p-value calculation does not work if there are \"\n"
     ]
    }
   ],
   "source": [
    "#Wilcoxon\n",
    "\n",
    "# Test Wilcoxona testuje hipotezę zerową, że dwie powiązane ze sobą sparowane próbki pochodzą\n",
    "# z tego samego rozkładu. W szczególności testuje, czy rozkład różnic x - y jest symetryczny\n",
    "# względem zera. Jest to nieparametryczna wersja sparowanego testu T.\n",
    "# Tutaj widać, że TotalAGen i TotalDDEMO pochodzą z tego samego rozkładu\n",
    "from scipy.stats import wilcoxon\n",
    "stat, p = wilcoxon(dataFile2['TotalAGen'], dataFile2['TotalDDEMO'])\n",
    "if p<alpha:\n",
    "    print(\"Różnice statystyczne istnieją, p=\", p)\n",
    "else:\n",
    "    print(\"Różnice statystyczne nie istnieją\")"
   ]
  },
  {
   "cell_type": "code",
   "execution_count": 19,
   "id": "f3f2ab2a-b32e-45d7-94dd-8343055c735a",
   "metadata": {
    "tags": []
   },
   "outputs": [
    {
     "name": "stdout",
     "output_type": "stream",
     "text": [
      "Różnice statystyczne istnieją, p= 5.451589716136096e-09\n"
     ]
    },
    {
     "data": {
      "text/html": [
       "<div>\n",
       "<style scoped>\n",
       "    .dataframe tbody tr th:only-of-type {\n",
       "        vertical-align: middle;\n",
       "    }\n",
       "\n",
       "    .dataframe tbody tr th {\n",
       "        vertical-align: top;\n",
       "    }\n",
       "\n",
       "    .dataframe thead th {\n",
       "        text-align: right;\n",
       "    }\n",
       "</style>\n",
       "<table border=\"1\" class=\"dataframe\">\n",
       "  <thead>\n",
       "    <tr style=\"text-align: right;\">\n",
       "      <th></th>\n",
       "      <th>0</th>\n",
       "      <th>1</th>\n",
       "      <th>2</th>\n",
       "      <th>3</th>\n",
       "    </tr>\n",
       "  </thead>\n",
       "  <tbody>\n",
       "    <tr>\n",
       "      <th>0</th>\n",
       "      <td>1.00000</td>\n",
       "      <td>0.07944</td>\n",
       "      <td>0.001</td>\n",
       "      <td>0.13943</td>\n",
       "    </tr>\n",
       "    <tr>\n",
       "      <th>1</th>\n",
       "      <td>0.07944</td>\n",
       "      <td>1.00000</td>\n",
       "      <td>0.001</td>\n",
       "      <td>0.90000</td>\n",
       "    </tr>\n",
       "    <tr>\n",
       "      <th>2</th>\n",
       "      <td>0.00100</td>\n",
       "      <td>0.00100</td>\n",
       "      <td>1.000</td>\n",
       "      <td>0.00100</td>\n",
       "    </tr>\n",
       "    <tr>\n",
       "      <th>3</th>\n",
       "      <td>0.13943</td>\n",
       "      <td>0.90000</td>\n",
       "      <td>0.001</td>\n",
       "      <td>1.00000</td>\n",
       "    </tr>\n",
       "  </tbody>\n",
       "</table>\n",
       "</div>"
      ],
      "text/plain": [
       "         0        1      2        3\n",
       "0  1.00000  0.07944  0.001  0.13943\n",
       "1  0.07944  1.00000  0.001  0.90000\n",
       "2  0.00100  0.00100  1.000  0.00100\n",
       "3  0.13943  0.90000  0.001  1.00000"
      ]
     },
     "execution_count": 19,
     "metadata": {},
     "output_type": "execute_result"
    }
   ],
   "source": [
    "#Test Friedmana Rank\n",
    "\n",
    "\"\"\"\n",
    "Test Friedmana służy do określenia, czy istnieje statystycznie istotna różnica między średnimi trzech \n",
    "lub więcej grup, w których te same osoby pojawiają się w każdej grupie.\n",
    "\n",
    "Test Friedmana wykorzystuje następujące hipotezy zerowe i alternatywne:\n",
    "Hipoteza zerowa (H0): Średnie oceny dla każdej populacji są równe.\n",
    "Hipoteza alternatywna: (Ha): Przynajmniej jedna średnia z populacji jest różna od pozostałych.\n",
    "\n",
    "Ponieważ ta wartość p jest mniejsza niż 0,05, możemy odrzucić hipotezę zerową, \n",
    "że średnia ocena jest taka sama dla wszystkich respondentów w zależności od płci\n",
    "\"\"\"\n",
    "from scipy.stats import friedmanchisquare\n",
    "\n",
    "stat, p = friedmanchisquare(dataFile2['TotalAGen'], dataFile2['TotalBdoc'], dataFile2['TotalCOld'], dataFile2['TotalDDEMO'])\n",
    "if p<alpha:\n",
    "    print(\"Różnice statystyczne istnieją, p=\", p)\n",
    "else:\n",
    "    print(\"Różnice statystyczne nie istnieją\")\n",
    "# post-hoc\n",
    "\n",
    "import scikit_posthocs as sp\n",
    "data = np.array([dataFile2['TotalAGen'], dataFile2['TotalBdoc'], dataFile2['TotalCOld'], dataFile2['TotalDDEMO']])\n",
    "sp.posthoc_nemenyi_friedman(data.T)"
   ]
  },
  {
   "cell_type": "code",
   "execution_count": 20,
   "id": "15afcfd4-7d90-4966-848f-f9be29b2956c",
   "metadata": {
    "tags": []
   },
   "outputs": [
    {
     "data": {
      "image/png": "[encoded data removed]",
      "text/plain": [
       "<Figure size 432x288 with 1 Axes>"
      ]
     },
     "metadata": {
      "needs_background": "light"
     },
     "output_type": "display_data"
    },
    {
     "data": {
      "image/png": "[encoded data removed]",
      "text/plain": [
       "<Figure size 432x288 with 1 Axes>"
      ]
     },
     "metadata": {
      "needs_background": "light"
     },
     "output_type": "display_data"
    }
   ],
   "source": [
    "# Krzywe przezycia - wykres Kaplana Mayera\n",
    "\n",
    "# Zbiór waltons - biblioteka lifelines, genotypy i liczba dni przeżytych u muchy Drosophila. \n",
    "import matplotlib.pyplot as plt\n",
    "from lifelines.datasets import load_waltons\n",
    "from lifelines import KaplanMeierFitter\n",
    "\n",
    "df = load_waltons()\n",
    "\n",
    "dfControl = df[df.group=='control']\n",
    "\n",
    "X=dfControl['T']\n",
    "Y=dfControl['E']\n",
    "\n",
    "kmf=KaplanMeierFitter()\n",
    "kmf.fit(X, Y)\n",
    "kmf.plot()\n",
    "\n",
    "plt.title(\"Control group\")\n",
    "plt.xlabel(\"Number of weeks\")\n",
    "plt.ylabel(\"Survival likelihood\")\n",
    "plt.show()\n",
    "plt.clf()\n",
    "\n",
    "dfExperimental = df[df.group!='control']\n",
    "\n",
    "X=dfExperimental['T']\n",
    "Y=dfExperimental['E']\n",
    "\n",
    "kmf=KaplanMeierFitter()\n",
    "kmf.fit(X, Y)\n",
    "kmf.plot()\n",
    "\n",
    "plt.title(\"Experimental group\")\n",
    "plt.xlabel(\"Number of weeks\")\n",
    "plt.ylabel(\"Survival likelihood\")\n",
    "plt.show()"
   ]
  },
  {
   "cell_type": "code",
   "execution_count": 21,
   "id": "f7e741aa-1ab2-418a-bd57-d25fc9dd8a09",
   "metadata": {},
   "outputs": [
    {
     "name": "stdout",
     "output_type": "stream",
     "text": [
      "0.4887218045112782\n",
      "0.5631313131313131\n",
      "0.5075757575757576\n",
      "0.5757575757575758\n",
      "0.553030303030303\n"
     ]
    }
   ],
   "source": [
    "# Regresja logistyczna\n",
    "# Selekcja cech i klasyfikacja w pięciu foldach\n",
    "# za metsi.github.io\n",
    "# Zbiór Ice cream - https://www.sheffield.ac.uk/mash/statistics/datasets\n",
    "\n",
    "# Miarą wyniku w tej analizie jest ulubiony smak lodów respondenta - waniliowy, czekoladowy lub truskawkowy\n",
    "# Jakie związki istnieją z wynikami w grze wideo, wynikami w puzzlach i płcią?\n",
    "# ice_cream jest zmienną zależną (zmienną przewidywaną).\n",
    "# Female, video i puzzle są zmiennymi niezależnymi (predyktorami).\n",
    "\n",
    "from sklearn.model_selection import StratifiedKFold\n",
    "from sklearn.linear_model import LogisticRegression\n",
    "from sklearn.metrics import balanced_accuracy_score\n",
    "from sklearn.feature_selection import SelectKBest, chi2\n",
    "\n",
    "iceCreams = np.genfromtxt('Ice_cream_R.csv', delimiter=\",\")\n",
    "iceCreams = np.delete(iceCreams, 0, 0) # pominięcie nagłówka tabeli\n",
    "\n",
    "X = iceCreams[:, :]\n",
    "X = np.delete(iceCreams, 0, 1)\n",
    "X = np.delete(X, 0, 1)\n",
    "y = iceCreams[:, -4].astype(int)\n",
    "\n",
    "X = SelectKBest(k=3).fit_transform(X, y)\n",
    "\n",
    "skf = StratifiedKFold(n_splits=5, random_state=42, shuffle=True)\n",
    "\n",
    "for id, (train_index, test_index) in enumerate(skf.split(X, y)):\n",
    "    X_train, X_test = X[train_index], X[test_index]\n",
    "    y_train, y_test = y[train_index], y[test_index]\n",
    "    clf = LogisticRegression(random_state=42, max_iter=100).fit(X_train, y_train)\n",
    "    y_preds = clf.predict(X_test)\n",
    "    print(balanced_accuracy_score(y_test, y_preds))\n"
   ]
  },
  {
   "cell_type": "code",
   "execution_count": 22,
   "id": "dc991b44-b4a6-456f-b950-ef864489d5ef",
   "metadata": {},
   "outputs": [
    {
     "name": "stdout",
     "output_type": "stream",
     "text": [
      "0.4887218045112782\n",
      "0.5463659147869675\n"
     ]
    },
    {
     "data": {
      "image/png": "[encoded data removed]",
      "text/plain": [
       "<Figure size 432x288 with 1 Axes>"
      ]
     },
     "metadata": {
      "needs_background": "light"
     },
     "output_type": "display_data"
    },
    {
     "name": "stdout",
     "output_type": "stream",
     "text": [
      "0.5631313131313131\n",
      "0.48737373737373735\n"
     ]
    },
    {
     "data": {
      "image/png": "[encoded data removed]",
      "text/plain": [
       "<Figure size 432x288 with 1 Axes>"
      ]
     },
     "metadata": {
      "needs_background": "light"
     },
     "output_type": "display_data"
    },
    {
     "name": "stdout",
     "output_type": "stream",
     "text": [
      "0.5075757575757576\n",
      "0.6363636363636364\n"
     ]
    },
    {
     "data": {
      "image/png": "[encoded data removed]",
      "text/plain": [
       "<Figure size 432x288 with 1 Axes>"
      ]
     },
     "metadata": {
      "needs_background": "light"
     },
     "output_type": "display_data"
    },
    {
     "name": "stdout",
     "output_type": "stream",
     "text": [
      "0.5757575757575758\n",
      "0.7045454545454547\n"
     ]
    },
    {
     "data": {
      "image/png": "[encoded data removed]",
      "text/plain": [
       "<Figure size 432x288 with 1 Axes>"
      ]
     },
     "metadata": {
      "needs_background": "light"
     },
     "output_type": "display_data"
    },
    {
     "name": "stdout",
     "output_type": "stream",
     "text": [
      "0.553030303030303\n",
      "0.5555555555555556\n"
     ]
    },
    {
     "data": {
      "image/png": "[encoded data removed]",
      "text/plain": [
       "<Figure size 432x288 with 1 Axes>"
      ]
     },
     "metadata": {
      "needs_background": "light"
     },
     "output_type": "display_data"
    }
   ],
   "source": [
    "# ROC - Wizualizacja jakości klasyfikacji\n",
    "# Regresja logistyczna\n",
    "# Selekcja cech i klasyfikacja w pięciu foldach\n",
    "# za metsi.github.io\n",
    "\n",
    "from sklearn.metrics import RocCurveDisplay\n",
    "from sklearn.metrics import roc_curve, auc\n",
    "\n",
    "skf = StratifiedKFold(n_splits=5, random_state=42, shuffle=True)\n",
    "\n",
    "for id, (train_index, test_index) in enumerate(skf.split(X, y)):\n",
    "    X_train, X_test = X[train_index], X[test_index]\n",
    "    y_train, y_test = y[train_index], y[test_index]\n",
    "    \n",
    "    lr = LogisticRegression(max_iter=600)\n",
    "    lr.fit(X_train, y_train)\n",
    "    y_preds = lr.predict(X_test)\n",
    "        \n",
    "    y_score = lr.decision_function(X_test)\n",
    "    fpr, tpr, _none = roc_curve(y_test, y_score, pos_label=lr.classes_[1])\n",
    "    \n",
    "    print(balanced_accuracy_score(y_test, y_preds))\n",
    "    print(auc(fpr, tpr)) # area under curve\n",
    "    \n",
    "    roc_display = RocCurveDisplay(fpr=fpr, tpr=tpr).plot()\n",
    "    plt.show()"
   ]
  }
 ],
 "metadata": {
  "kernelspec": {
   "display_name": "Python 3 (ipykernel)",
   "language": "python",
   "name": "python3"
  },
  "language_info": {
   "codemirror_mode": {
    "name": "ipython",
    "version": 3
   },
   "file_extension": ".py",
   "mimetype": "text/x-python",
   "name": "python",
   "nbconvert_exporter": "python",
   "pygments_lexer": "ipython3",
   "version": "3.9.7"
  }
 },
 "nbformat": 4,
 "nbformat_minor": 5
}
